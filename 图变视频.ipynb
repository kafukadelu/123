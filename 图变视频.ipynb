{
 "cells": [
  {
   "cell_type": "code",
   "execution_count": 7,
   "id": "767039f9-adce-4943-b652-fd26fb2664ee",
   "metadata": {},
   "outputs": [
    {
     "name": "stdout",
     "output_type": "stream",
     "text": [
      "VideoObject(id='2071732092879833-9221302033922247974', model='cogvideox', video_result=None, task_status='PROCESSING', request_id='-9221302033922247975')\n"
     ]
    }
   ],
   "source": [
    "from zhipuai import ZhipuAI\n",
    "client = ZhipuAI(api_key=\"6cc63432376685089f4585db3faf4dd5.BsGYlIm2p1SVEczo\") # 请填写您自己的APIKey\n",
    "response = client.videos.generations(\n",
    "    model=\"cogvideox\",\n",
    "    image_url = \"https://img2.baidu.com/it/u=3938184662,4153908414&fm=253&fmt=auto&app=138&f=JPEG?w=800&h=1203\",\n",
    "    prompt=\"车身变成变形金刚并摆poss\"\n",
    ")\n",
    "print(response)"
   ]
  },
  {
   "cell_type": "code",
   "execution_count": 11,
   "id": "0f4047e4-7af5-4215-a76f-12e463a2380c",
   "metadata": {},
   "outputs": [
    {
     "name": "stdout",
     "output_type": "stream",
     "text": [
      "VideoObject(id=None, model='cogvideox', video_result=[VideoResult(url='https://aigc-files.bigmodel.cn/api/cogvideo/46792310-a7e2-11ef-bea3-fa5f52131d8b_0.mp4', cover_image_url='https://aigc-files.bigmodel.cn/api/cogvideo/46792310-a7e2-11ef-bea3-fa5f52131d8b_cover_0.jpeg')], task_status='SUCCESS', request_id='-9221302033922247975')\n"
     ]
    }
   ],
   "source": [
    "from zhipuai import ZhipuAI\n",
    "client = ZhipuAI(api_key=\"6cc63432376685089f4585db3faf4dd5.BsGYlIm2p1SVEczo\")# 请填写您自己的APIKey\n",
    "response = client.videos.retrieve_videos_result( \n",
    "    id=\"2071732092879833-9221302033922247974\" \n",
    ")    \n",
    "print (response)"
   ]
  },
  {
   "cell_type": "code",
   "execution_count": null,
   "id": "34cee224-4524-4d67-b0e0-8e461ecf6b9d",
   "metadata": {},
   "outputs": [],
   "source": []
  }
 ],
 "metadata": {
  "kernelspec": {
   "display_name": "Python 3 (ipykernel)",
   "language": "python",
   "name": "python3"
  },
  "language_info": {
   "codemirror_mode": {
    "name": "ipython",
    "version": 3
   },
   "file_extension": ".py",
   "mimetype": "text/x-python",
   "name": "python",
   "nbconvert_exporter": "python",
   "pygments_lexer": "ipython3",
   "version": "3.9.7"
  }
 },
 "nbformat": 4,
 "nbformat_minor": 5
}
