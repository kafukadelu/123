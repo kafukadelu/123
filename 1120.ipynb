{
 "cells": [
  {
   "cell_type": "code",
   "execution_count": 1,
   "id": "77d11271-32c3-4245-86cb-6ab6e5d4d8e9",
   "metadata": {},
   "outputs": [
    {
     "name": "stdout",
     "output_type": "stream",
     "text": [
      "sigmoid函数在x=0点处的导数: 0.25\n"
     ]
    }
   ],
   "source": [
    "\n",
    "\n",
    "import torch\n",
    "\n",
    "# 定义sigmoid函数\n",
    "def sigmoid(x):\n",
    "    return 1 / (1 + torch.exp(-x))\n",
    "\n",
    "# 计算sigmoid函数在x=0点处的导数\n",
    "x = torch.tensor(0.0, requires_grad=True)\n",
    "y = sigmoid(x)\n",
    "y.backward()\n",
    "derivative_at_zero = x.grad.item()\n",
    "\n",
    "print(\"sigmoid函数在x=0点处的导数:\", derivative_at_zero)"
   ]
  },
  {
   "cell_type": "code",
   "execution_count": 2,
   "id": "150d72d2-8481-4f7d-99bb-7782af4097a2",
   "metadata": {},
   "outputs": [
    {
     "name": "stdout",
     "output_type": "stream",
     "text": [
      "关于x1的梯度: tensor([0.])\n",
      "关于x2的梯度: tensor([0.0029])\n"
     ]
    }
   ],
   "source": [
    "import torch\n",
    "\n",
    "# 定义sigmoid函数\n",
    "def sigmoid(x):\n",
    "    return 1 / (1 + torch.exp(-x))\n",
    "\n",
    "# 定义函数\n",
    "def func(x1, x2):\n",
    "    inner_sigmoid = sigmoid(x1**2 + 2*x2 + 1)\n",
    "    y = sigmoid(3*inner_sigmoid + inner_sigmoid + 1)\n",
    "    return y\n",
    "\n",
    "# 设置x1和x2的值\n",
    "x1 = torch.tensor([0.0], requires_grad=True)\n",
    "x2 = torch.tensor([1.0], requires_grad=True)\n",
    "\n",
    "# 计算y的值\n",
    "y = func(x1, x2)\n",
    "\n",
    "# 计算梯度\n",
    "y.backward()\n",
    "\n",
    "# 输出梯度\n",
    "print(f\"关于x1的梯度: {x1.grad}\")\n",
    "print(f\"关于x2的梯度: {x2.grad}\")"
   ]
  },
  {
   "cell_type": "code",
   "execution_count": null,
   "id": "889e5943-04b2-4f78-b1c7-240b27db3ac2",
   "metadata": {},
   "outputs": [],
   "source": [
    "import torch \n",
    "import numpy as np \n",
    "import matplotlib.pyplot as plt\n",
    "x_plot = np.linspace(-10, 10, 400)\n",
    "y_plot = torch.tensor(x_plot)**2\n",
    "# 绘制曲线\n",
    "plt.plot(x_plot, y_plot)\n",
    "plt.xlabel('x value')\n",
    "plt.ylabel('f(x) value')\n",
    "plt.title('Curve of Function y=x^2') \n",
    "plt.show()"
   ]
  },
  {
   "cell_type": "code",
   "execution_count": null,
   "id": "266a639d-d2e6-4c36-a7be-5f42bfbd5202",
   "metadata": {},
   "outputs": [],
   "source": []
  }
 ],
 "metadata": {
  "kernelspec": {
   "display_name": "Python 3 (ipykernel)",
   "language": "python",
   "name": "python3"
  },
  "language_info": {
   "codemirror_mode": {
    "name": "ipython",
    "version": 3
   },
   "file_extension": ".py",
   "mimetype": "text/x-python",
   "name": "python",
   "nbconvert_exporter": "python",
   "pygments_lexer": "ipython3",
   "version": "3.9.7"
  }
 },
 "nbformat": 4,
 "nbformat_minor": 5
}
