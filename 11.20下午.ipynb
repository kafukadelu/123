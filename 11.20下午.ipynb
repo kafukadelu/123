{
 "cells": [
  {
   "cell_type": "code",
   "execution_count": 24,
   "id": "901b3e65-d5e6-40ec-ad48-fe12077db759",
   "metadata": {},
   "outputs": [],
   "source": [
    "# 导入必要的库\n",
    "from sklearn.datasets import load_iris\n",
    "from sklearn.model_selection import train_test_split\n",
    "from sklearn.linear_model import LogisticRegression\n",
    "from sklearn.metrics import classification_report, accuracy_score"
   ]
  },
  {
   "cell_type": "code",
   "execution_count": 31,
   "id": "35a0fa43-530c-4fa8-93f9-7e807c3ea090",
   "metadata": {},
   "outputs": [
    {
     "name": "stdout",
     "output_type": "stream",
     "text": [
      "--- report ---\n",
      "              precision    recall  f1-score   support\n",
      "\n",
      "           0       1.00      1.00      1.00        10\n",
      "           1       1.00      1.00      1.00         9\n",
      "           2       1.00      1.00      1.00        11\n",
      "\n",
      "    accuracy                           1.00        30\n",
      "   macro avg       1.00      1.00      1.00        30\n",
      "weighted avg       1.00      1.00      1.00        30\n",
      "\n",
      "--- params ---\n",
      "Coefficients: [[ 0.3711229   1.409712   -2.15210117 -0.95474179]\n",
      " [ 0.49400451 -1.58897112  0.43717015 -1.11187838]\n",
      " [-1.55895271 -1.58893375  2.39874554  2.15556209]]\n",
      "Intercept: [ 0.2478905   0.86408083 -1.00411267]\n",
      "--- accuracy ---\n",
      "Accuracy: 1.0\n"
     ]
    }
   ],
   "source": [
    "# 导入必要的库\n",
    "from sklearn.datasets import load_iris\n",
    "from sklearn.model_selection import train_test_split\n",
    "from sklearn.linear_model import LogisticRegression\n",
    "from sklearn.metrics import classification_report, accuracy_score\n",
    "\n",
    "# 加载数据集，这里以鸢尾花数据集为例\n",
    "iris = load_iris()\n",
    "X = iris.data\n",
    "y = iris.target\n",
    "\n",
    "# 将数据集分为训练集和测试集\n",
    "X_train, X_test, y_train, y_test = train_test_split(X, y, test_size=0.2, random_state=42)\n",
    "\n",
    "# 初始化逻辑回归模型\n",
    "lr = LogisticRegression(solver='liblinear', multi_class='ovr')\n",
    "\n",
    "# 训练模型\n",
    "lr.fit(X_train, y_train)\n",
    "\n",
    "# 使用模型进行预测\n",
    "y_pred = lr.predict(X_test)\n",
    "\n",
    "# 打印主要分类指标的文本报告\n",
    "print('--- report ---')\n",
    "print(classification_report(y_test, y_pred))\n",
    "\n",
    "# 打印模型的参数\n",
    "print('--- params ---')\n",
    "print(\"Coefficients:\", lr.coef_)\n",
    "print(\"Intercept:\", lr.intercept_)\n",
    "\n",
    "# 打印准确率\n",
    "print('--- accuracy ---')\n",
    "print(\"Accuracy:\", accuracy_score(y_test, y_pred))"
   ]
  },
  {
   "cell_type": "code",
   "execution_count": 13,
   "id": "6d6a06bd-f5a1-4ce8-9ced-c66aa7b204d9",
   "metadata": {},
   "outputs": [],
   "source": [
    "import os\n",
    "from zhipuai import ZhipuAI\n",
    "import base64 #导入base64库,用于将视频文件编码成base64字符申格式\n",
    "os.environ[\"ZHIPUAI_API_KEY\"] = \"6cc63432376685089f4585db3faf4dd5.BsGYlIm2p1SVEczo\"\n",
    "client = ZhipuAI()"
   ]
  },
  {
   "cell_type": "code",
   "execution_count": 14,
   "id": "31619038-61c3-4151-ba88-d6dd402870aa",
   "metadata": {},
   "outputs": [
    {
     "data": {
      "text/plain": [
       "'C:\\\\Users\\\\admin\\\\Desktop'"
      ]
     },
     "execution_count": 14,
     "metadata": {},
     "output_type": "execute_result"
    }
   ],
   "source": [
    "pwd\n"
   ]
  },
  {
   "cell_type": "code",
   "execution_count": 15,
   "id": "05448076-cfd4-4732-a4c9-4b13f83a4ce4",
   "metadata": {},
   "outputs": [
    {
     "name": "stdout",
     "output_type": "stream",
     "text": [
      "通常来说,视频理解的响应时间较长,需要等待数十秒......\n",
      "CompletionMessage(content='视频展示了一群火烈鸟站在水中，随后一个河马从它们身边经过。然后画面切换到一群斑马在水坑中饮水，一只乌龟在附近游泳。最后，两只猎豹追逐一只瞪羚，而另一只瞪羚则静止不动。', role='assistant', tool_calls=None)\n"
     ]
    }
   ],
   "source": [
    "video_path = \"假如动物都变成球.mp4\" #设置视频文件的路径\n",
    "with open(video_path, 'rb') as video_file: #以\"二进制读\"模式打开视频文件\n",
    "    video_base = base64.b64encode(video_file.read()).decode('utf-8')# 把视频文件编码成智谱支持的video_base64字符申，再解码成utf-8格式字符申\n",
    "    print(\"通常来说,视频理解的响应时间较长,需要等待数十秒......\")\n",
    "    response = client.chat.completions.create( # 直接调补全接口\n",
    "        model=\"glm-4v-plus\", #设置智谱具体大模型，glm-4v-plus支持视频理解\n",
    "        temperature=0.0,#设置温度参数,控制生成文本的随机性,0.0表示不随机,输出最可能的文本\n",
    "        top_p=0,# 设置top_p参数，控制生成文本的多样性，0表示不使用此参数\n",
    "        \n",
    "        messages=[{# 设置消息列表\n",
    "            \"role\":\"user\",# 指定消息的角色为用户\n",
    "            \"content\": [{ #定义消息内容列表\n",
    "                \"type\": \"video_url\", #设置视频链接\n",
    "                \"video_url\": {\"url\" : video_base} #将编码后的视频以base64字符串形式作为链接\n",
    "              },{\n",
    "                \"type\": \"text\", #设置提问/提示词类型为文本\n",
    "                \"text\":\"请仔细，视频里讲了什么？\"# 设置提问/提示词\n",
    "              }]\n",
    "    }]\n",
    ")\n",
    "print(response.choices[0].message) #输出回答列表中的第一个选项中的消息"
   ]
  },
  {
   "cell_type": "code",
   "execution_count": null,
   "id": "625e6a51-9581-4b97-b64c-6dcf7abebf4b",
   "metadata": {},
   "outputs": [],
   "source": []
  }
 ],
 "metadata": {
  "kernelspec": {
   "display_name": "Python 3 (ipykernel)",
   "language": "python",
   "name": "python3"
  },
  "language_info": {
   "codemirror_mode": {
    "name": "ipython",
    "version": 3
   },
   "file_extension": ".py",
   "mimetype": "text/x-python",
   "name": "python",
   "nbconvert_exporter": "python",
   "pygments_lexer": "ipython3",
   "version": "3.9.7"
  }
 },
 "nbformat": 4,
 "nbformat_minor": 5
}
